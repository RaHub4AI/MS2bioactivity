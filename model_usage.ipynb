{
 "cells": [
  {
   "cell_type": "code",
   "execution_count": 1,
   "metadata": {},
   "outputs": [],
   "source": [
    "import warnings\n",
    "warnings.filterwarnings('ignore', category = RuntimeWarning)\n",
    "warnings.filterwarnings('ignore', category = UserWarning)\n",
    "\n",
    "import pandas as pd\n",
    "import numpy as np\n",
    "import glob\n",
    "import os\n",
    "import zipfile\n",
    "import shutil\n",
    "import pickle\n",
    "import xgboost as xgb"
   ]
  },
  {
   "cell_type": "code",
   "execution_count": 2,
   "metadata": {},
   "outputs": [],
   "source": [
    "# Functions for making predictions\n",
    "def MonteCarlo_prediction(fp, model, n_samples=10000):\n",
    "    binary_samples = np.random.binomial(1, fp, size=(n_samples, len(fp)))\n",
    "    predicted_probabilities = model.predict_proba(binary_samples)[:, 1]\n",
    "    return np.mean(predicted_probabilities)\n",
    "\n",
    "def make_predictions(data, model):\n",
    "    df = data[np.concatenate([['id', 'formula'], model.feature_names_in_])]\n",
    "    predicted_probabilities =  df[model.feature_names_in_].apply(lambda x: MonteCarlo_prediction(np.array(x), model=model), axis=1)\n",
    "    return predicted_probabilities"
   ]
  },
  {
   "cell_type": "code",
   "execution_count": 3,
   "metadata": {},
   "outputs": [],
   "source": [
    "sirius_output_folder = './WWTP_sirius_output' # Folder with SIRIUS+CSI:FingerID results\n",
    "esi_mode = 'pos' # ESI mode used: 'pos' or 'neg'\n",
    "\n",
    "if esi_mode == 'pos':\n",
    "    fp_info = pd.read_csv(f'{sirius_output_folder}/csi_fingerid.tsv', sep='\\t')\n",
    "else:\n",
    "    fp_info = pd.read_csv(f'{sirius_output_folder}/csi_fingerid_neg.tsv', sep='\\t')\n",
    "\n",
    "# Generating the dataframe for SIRIUS+CSI:FingerID results\n",
    "columns = np.concatenate([['id', 'formula'], ['absoluteIndex_' + str(idx) for idx in fp_info.absoluteIndex.values]], axis=0)\n",
    "fp_data = pd.DataFrame(columns=columns)"
   ]
  },
  {
   "cell_type": "code",
   "execution_count": 4,
   "metadata": {},
   "outputs": [],
   "source": [
    "# Unzipping SIRIUS(v5.*.*) results \n",
    "zipped_folders = ['fingerid', 'fingerprints', 'scores', 'spectra', 'trees']\n",
    "\n",
    "for out_folder in glob.glob(f'{sirius_output_folder}/*/'):\n",
    "    for folder in zipped_folders:\n",
    "        try:\n",
    "            unzip_folder = f'{out_folder}{folder}_unzipped'\n",
    "            if not os.path.exists(unzip_folder):\n",
    "                os.makedirs(unzip_folder)\n",
    "\n",
    "            zip_path = f'{out_folder}{folder}'\n",
    "            with zipfile.ZipFile(zip_path, 'r') as zip_ref:\n",
    "                zip_ref.extractall(unzip_folder)\n",
    "        except:\n",
    "            continue"
   ]
  },
  {
   "cell_type": "code",
   "execution_count": 5,
   "metadata": {},
   "outputs": [],
   "source": [
    "without_fp = [] # Array for MS features without predicted fingerprints\n",
    "\n",
    "for file_name in glob.glob(f'{sirius_output_folder}/*/formula_candidates.tsv'):\n",
    "    data = pd.read_csv(file_name, sep='\\t')\n",
    "    rank1formula = data[data.formulaRank == 1].molecularFormula.values[0]\n",
    "    adduct = data[data.formulaRank == 1].adduct.values[0].replace(' ', '') # Using fingerprints of rank 1 formulas\n",
    "    id = os.path.basename(os.path.dirname(file_name)).split('_')[1:]\n",
    "    id = '_'.join(id[:len(id)//2])\n",
    "    try:\n",
    "        fp = pd.read_csv(f'{os.path.dirname(file_name)}/fingerprints_unzipped/{rank1formula}_{adduct}.fpt', header=None).T.values.flatten()\n",
    "        data_ready = np.concatenate([[id, rank1formula], fp], axis=0)\n",
    "        fp_data.loc[len(fp_data)] = data_ready\n",
    "    except:\n",
    "        without_fp.append(id)\n",
    "fp_data = fp_data.apply(pd.to_numeric, errors='ignore')\n",
    "fp_data.to_csv('WWTP_sirius_pred_fps.tsv', sep='\\t', quoting=False, index=False) # Saving results"
   ]
  },
  {
   "cell_type": "code",
   "execution_count": 6,
   "metadata": {},
   "outputs": [],
   "source": [
    "# Moving SIRIUS input files that did not generate fingerprints into a separate folder for further inspection\n",
    "sirius_input_failed = './WWTP_sirius_input_again/'\n",
    "if not os.path.exists(sirius_input_failed):\n",
    "    os.makedirs(sirius_input_failed)\n",
    "for file_name in glob.glob('./WWTP_sirius_input/*'):\n",
    "    if os.path.basename(file_name).split('.')[0] in without_fp:\n",
    "        shutil.move(file_name, f'{sirius_input_failed}{os.path.basename(file_name)}')\n",
    "    else:\n",
    "        continue"
   ]
  },
  {
   "cell_type": "code",
   "execution_count": 16,
   "metadata": {},
   "outputs": [],
   "source": [
    "fp_data = pd.read_csv('WWTP_sirius_pred_fps.tsv', sep='\\t')\n",
    "final_predictions = fp_data[['id', 'formula']]"
   ]
  },
  {
   "cell_type": "code",
   "execution_count": 31,
   "metadata": {},
   "outputs": [],
   "source": [
    "endpoint = 'nr.ahr' # Bioassay endpoint\n",
    "model_size = 'full' # Model type (full, big or small)\n",
    "saved_model = f'./trained_models/{endpoint}_{model_size}.pkl'\n",
    "model = pickle.load(open(saved_model, \"rb\"))  # Loading model\n",
    "threshold_df = pd.read_csv('full_models_thresholds.tsv', sep='\\t') # Threshold values used to convert probabilistic predictions into binary classifications\n",
    "threshold = threshold_df[threshold_df.endpoint == endpoint].threshold.values[0]\n",
    "\n",
    "predictions_df = make_predictions(fp_data, model)\n",
    "final_predictions[endpoint] = (predictions_df > threshold).astype(int)\n",
    "\n",
    "final_predictions.to_csv('WWTP_predictions.tsv', sep='\\t', index=False, quoting=False) # Saving the predictions"
   ]
  }
 ],
 "metadata": {
  "kernelspec": {
   "display_name": "Python 3",
   "language": "python",
   "name": "python3"
  },
  "language_info": {
   "codemirror_mode": {
    "name": "ipython",
    "version": 3
   },
   "file_extension": ".py",
   "mimetype": "text/x-python",
   "name": "python",
   "nbconvert_exporter": "python",
   "pygments_lexer": "ipython3",
   "version": "3.11.9"
  }
 },
 "nbformat": 4,
 "nbformat_minor": 2
}
